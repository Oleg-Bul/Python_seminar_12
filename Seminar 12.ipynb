{
 "cells": [
  {
   "cell_type": "markdown",
   "id": "78d7c3ef",
   "metadata": {},
   "source": [
    "# Дана задача:\n",
    "\n",
    "К аналитику обратился риэлтор c задачей выставить ценник для продажи объектов недвижимости площадью 48м2 и 54м2. В ходе работы над задачей аналитик выяснил, что:\n",
    "\n",
    "объект 31м2 стоит $19310\n",
    "\n",
    "объект 51м2 стоит $52150\n",
    "\n",
    "объект 61м2 стоит $74570\n",
    "\n",
    "Вопрос: что. сказать риелтору?"
   ]
  },
  {
   "cell_type": "code",
   "execution_count": 8,
   "id": "072d2726",
   "metadata": {},
   "outputs": [
    {
     "name": "stdout",
     "output_type": "stream",
     "text": [
      "20 2 28\n"
     ]
    }
   ],
   "source": [
    "import sympy\n",
    "a, b, c = sympy.symbols('a, b, c')\n",
    "\n",
    "eq1 = a*(31**2) + 31*b + c - 19310\n",
    "eq2 = a*(51**2) + 51*b + c - 52150\n",
    "eq3 = a*(61**2) + 61*b + c - 74570\n",
    "lin_sys = [eq1,eq2,eq3]\n",
    "a, b, c = tuple(sympy.linsolve(lin_sys, a, b, c))[0]\n",
    "print(a, b, c)"
   ]
  },
  {
   "cell_type": "code",
   "execution_count": 11,
   "id": "048dd5b2",
   "metadata": {},
   "outputs": [
    {
     "name": "stdout",
     "output_type": "stream",
     "text": [
      "Площадь объекта: 48\n",
      "46204\n"
     ]
    }
   ],
   "source": [
    "s = sympy.Symbol('s')\n",
    "f = a*s**2 + b*s + c\n",
    "square = int(input(\"Площадь объекта: \"))\n",
    "print(int(f.evalf(subs = {s:square})))"
   ]
  },
  {
   "cell_type": "code",
   "execution_count": null,
   "id": "5363d033",
   "metadata": {},
   "outputs": [],
   "source": []
  },
  {
   "cell_type": "code",
   "execution_count": null,
   "id": "99ed1379",
   "metadata": {},
   "outputs": [],
   "source": []
  }
 ],
 "metadata": {
  "kernelspec": {
   "display_name": "Python 3 (ipykernel)",
   "language": "python",
   "name": "python3"
  },
  "language_info": {
   "codemirror_mode": {
    "name": "ipython",
    "version": 3
   },
   "file_extension": ".py",
   "mimetype": "text/x-python",
   "name": "python",
   "nbconvert_exporter": "python",
   "pygments_lexer": "ipython3",
   "version": "3.9.13"
  }
 },
 "nbformat": 4,
 "nbformat_minor": 5
}
